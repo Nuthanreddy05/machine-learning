{
 "cells": [
  {
   "cell_type": "markdown",
   "id": "bbedc293",
   "metadata": {},
   "source": [
    "# Questions"
   ]
  },
  {
   "cell_type": "markdown",
   "id": "7c492322",
   "metadata": {},
   "source": [
    "#### Model performance metrics"
   ]
  },
  {
   "cell_type": "markdown",
   "id": "34b3bc64",
   "metadata": {},
   "source": [
    "**Linear Discriminative analysis:**\n",
    "\n",
    "Train Accuracy of LDA on RGB Version :  0.51466\n",
    "\n",
    "Test Accuracy of LDA on RGB Version :  0.3713\n",
    "\n",
    "Train Accuracy of LDA on Greyscale Version :  0.35164\n",
    "\n",
    "Test Accuracy of LDA on Greyscale Version :  0.2785\n",
    "\n",
    "**Quadratic Discriminant Analysis:**\n",
    "\n",
    "Train Accuracy of QDA on RGB Version :  0.99244\n",
    "\n",
    "Test Accuracy of QDA on RGB Version :  0.3623\n",
    "\n",
    "Train Accuracy of QDA on Greyscale Version :  0.88622\n",
    "\n",
    "Test Accuracy of QDA on Greyscale Version :  0.4473\n",
    "\n",
    "**Gaussian Naive Bayes:**\n",
    "\n",
    "Train Accuracy of GNB on RGB Version :  0.28472\n",
    "\n",
    "Test Accuracy of GNB on RGB Version :  0.2976\n",
    "\n",
    "Train Accuracy of GNB on Greyscale Version :  0.2583\n",
    "\n",
    "Test Accuracy of GNB on Greyscale Version :  0.268\n"
   ]
  },
  {
   "cell_type": "markdown",
   "id": "3e0d1ee4",
   "metadata": {},
   "source": [
    "### 1. State the maximum likelihood estimates for the parameters of Gaussian Naive Bayes. Do these estimates change if we use grayscale images instead of RGB images? Explain why or why not."
   ]
  },
  {
   "cell_type": "markdown",
   "id": "6ba6b40b",
   "metadata": {},
   "source": [
    "The maximum likelihood estimates for the parameters in Gaussian Naive Bayes Model are mean and variance of the pixels in each class\n",
    "\n",
    "* Mean (µ) = (Σx) / N, where Σx is the sum of values and N is the number of images. *\n",
    "\n",
    "* Variance (σ²) = (Σ(x - µ)²) / N , where (x - µ) is the deviation of each value from mean and N is the number of images. *\n",
    "\n",
    "In RGB each pixel has three values red, green and blue while the greyscale pixel has only one value but the parameter estimates are measured independently for each class. So estimates do not change if we use grayscale images instead of RGB images \n"
   ]
  },
  {
   "cell_type": "markdown",
   "id": "085bfcd7",
   "metadata": {},
   "source": [
    "### 2. The accuracy of QDA using RGB images was lower than that of grayscale images. What assumptions does QDA make that might cause this difference in performance?"
   ]
  },
  {
   "cell_type": "markdown",
   "id": "99e9ce58",
   "metadata": {},
   "source": [
    "Below are the assumptions that might cause difference in QDA model's performance between RGB images and greyscale images resulting in lower accuracy on RGB images\n",
    "\n",
    "* The pixel values follow multivariate normal distribution for each class*\n",
    "  - RGB images have three features (Red, Green and Blue) in each pixel while the grayscale images have one feature defining the intensity of each pixel.so the QDA model will face complexity incase of RGB because of higher dimentional feature space (R,G,B features)\n",
    "* Equal Covariance Matrices (assumes each class has its own covariance matrix)*\n",
    "  - In RGB images, matrices become complex because of higher dimentional feature space (R,G,B features) and might result in overfitting\n",
    "* QDA is sensitive to sample size*\n",
    "  - As RGB images have higher dimensions (R,G,B features) the QDA model needs more training samples for beeter performance when compared to grayscale images. this might result in lower accuracy of QDA model on RGB images than that of grayscale for same sample size"
   ]
  },
  {
   "cell_type": "markdown",
   "id": "4bbddcd5",
   "metadata": {},
   "source": [
    "### 3. Both LDA and Gaussian Naive Bayes saw reduced test accuracy on grayscale images compared to RGB images. Why might this be the case (is it the data, the model, or something else)?"
   ]
  },
  {
   "cell_type": "markdown",
   "id": "9fb5f941",
   "metadata": {},
   "source": [
    "* RGB images contain more information in terms of Red, Green, Blue features in each pixel value and Grayscale images contain only one feature defining the intensity of each pixel.\n",
    "* Converting RGB images to grayscale images results in loss of information and drop in accuracy\n",
    "* LDA and GNB models might have faced complexity with loss of information in grayscale images, while QDA performed better on grayscale by modeling covariance matrices. As LDA and QDA ignores the assumption of equal covariance matrices across classes"
   ]
  },
  {
   "cell_type": "markdown",
   "id": "0273f03b",
   "metadata": {},
   "source": [
    "### 4. How many parameters are estimated for each model and each image type (RGB and grayscale)?"
   ]
  },
  {
   "cell_type": "markdown",
   "id": "c9cf3af9",
   "metadata": {},
   "source": [
    "<u>**Linear Discriminant Analysis:**</u>\n",
    "* **RGB Images:*** 39 parameters\n",
    "  - Mean: 30 parameters (3 channels per class, 10 classes)\n",
    "  - Covariance Matrix Shared: 9 parameters (3x3 matrix)\n",
    "* **Grayscale Images:*** 11 parameters\n",
    "  - Mean: 10 parameters (1 per class)\n",
    "  - Covariance Matrix Shared: 1 parameter\n",
    "\n",
    "<u>**Quadratic Discriminant Analysis:**</u>\n",
    "* **RGB Images:*** 120 parameters\n",
    "  - Means: 30 parameters (3 channels per class, 10 classes)\n",
    "  - Covariance Matrices: 90 parameters (3x3 matrix per class, 10 classes)\n",
    "* **Grayscale Images:** Total: 20 parameters\n",
    "  - Means: 10 parameters (1 per class)\n",
    "  - Covariance Matrices: 10 parameters (1x1 matrix per class, 10 classes)\n",
    "\n",
    "<u>**Gaussian Naive Bayes:**</u>\n",
    "* **RGB Images:*** 70 parameters\n",
    "  - Priors: 10 parameters\n",
    "  - Means: 30 parameters (3 channels per class, 10 classes)\n",
    "  - Variances: 30 parameters (3 channels per class, 10 classes)\n",
    "* **Grayscale Images:*** 30 parameters\n",
    "  - Priors: 10 parameters\n",
    "  - Means: 10 parameters (1 per class)\n",
    "  - Variances: 10 parameters (1 per class)\n",
    "\n",
    "\n"
   ]
  },
  {
   "cell_type": "code",
   "execution_count": null,
   "id": "481ad229",
   "metadata": {},
   "outputs": [],
   "source": []
  }
 ],
 "metadata": {
  "kernelspec": {
   "display_name": "Python 3 (ipykernel)",
   "language": "python",
   "name": "python3"
  },
  "language_info": {
   "codemirror_mode": {
    "name": "ipython",
    "version": 3
   },
   "file_extension": ".py",
   "mimetype": "text/x-python",
   "name": "python",
   "nbconvert_exporter": "python",
   "pygments_lexer": "ipython3",
   "version": "3.11.4"
  }
 },
 "nbformat": 4,
 "nbformat_minor": 5
}
